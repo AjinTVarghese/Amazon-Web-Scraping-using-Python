{
 "cells": [
  {
   "cell_type": "code",
   "execution_count": 9,
   "id": "40349b7d-1c16-41b5-8e8b-4a52437620e0",
   "metadata": {},
   "outputs": [],
   "source": [
    "#import libraries\n",
    "\n",
    "from bs4 import BeautifulSoup\n",
    "import requests\n",
    "import smtplib\n",
    "import time\n",
    "import datetime"
   ]
  },
  {
   "cell_type": "code",
   "execution_count": 53,
   "id": "f4d74408-d1f5-480f-9ea2-75687ee537ca",
   "metadata": {},
   "outputs": [
    {
     "name": "stdout",
     "output_type": "stream",
     "text": [
      "\n",
      "             OnePlus Nord CE 3 Lite 5G (Chromatic Gray, 8GB RAM, 128GB Storage)\n",
      "            \n",
      "\n",
      "                                 16,010\n",
      "                                 \n",
      "                                  .\n",
      "                                 \n",
      "\n"
     ]
    }
   ],
   "source": [
    "#connect website\n",
    "URL = \"https://www.amazon.in/OnePlus-Nord-Chromatic-128GB-Storage/dp/B0BY8MCQ9S/ref=sr_1_8?dib=eyJ2IjoiMSJ9.b2XRdvIXAHYNk9y9yfCU3hAVDSbZyzXzooAPqXCn1_4JMNlBv5My5c8XY1rR0sZv1F5B3YKumYgwC5DP4fHjGxGvVbtUBNsVHI7-U-2OL8ludcjS0jT1W_f3Q7DzdiwKlbH8uZHCcHLepH-o9nxBefP0FM-TW1tyLsPhMdWPlKlXTC6hjDCrTzj-GKhUezjNBJKb8HXN7jh4YUV5Z6Et0bPA_jaPJ6cmt_SDqGnqN_s.Hjj28xIQ8JZ92LsITqWw18SVwyEpw8mr9Yb8AMSh95c&dib_tag=se&keywords=phones&qid=1729472834&sr=8-8&th=1\"\n",
    "\n",
    "headers = {\"User-Agent\": \"Mozilla/5.0 (Windows NT 10.0; Win64; x64) AppleWebKit/537.36 (KHTML, like Gecko) Chrome/130.0.0.0 Safari/537.36 Edg/130.0.0.0\"}\n",
    "\n",
    "page = requests.get(URL, headers=headers)\n",
    "\n",
    "Soup1 = BeautifulSoup(page.content, \"html.parser\")\n",
    "\n",
    "Soup2 = BeautifulSoup(soup1.prettify(), \"html.parser\")\n",
    "\n",
    "title = Soup2.find(id=\"productTitle\").get_text()\n",
    "price = soup2.find(name=\"span\", class_=\"a-price-whole\").get_text()\n",
    "\n",
    "print(title)\n",
    "print(price)"
   ]
  },
  {
   "cell_type": "code",
   "execution_count": 63,
   "id": "e25d0c63-2cb5-4171-a9a5-f9cdda49ac09",
   "metadata": {},
   "outputs": [
    {
     "name": "stdout",
     "output_type": "stream",
     "text": [
      "16,010\n",
      "OnePlus Nord CE 3 Lite 5G (Chromatic Gray, 8GB RAM, 128GB Storage)\n"
     ]
    }
   ],
   "source": [
    "price=price.strip()[:6]\n",
    "title=title.strip()\n",
    "\n",
    "print(price)\n",
    "print(title)"
   ]
  },
  {
   "cell_type": "code",
   "execution_count": 103,
   "id": "91d32554-b1b4-468f-94e3-1ca58dc80681",
   "metadata": {},
   "outputs": [
    {
     "name": "stdout",
     "output_type": "stream",
     "text": [
      "2024-10-21\n"
     ]
    }
   ],
   "source": [
    "# Create a Timestamp for your output to track when data was collected\n",
    "\n",
    "import datetime\n",
    "\n",
    "today = datetime.date.today()\n",
    "\n",
    "print(today)"
   ]
  },
  {
   "cell_type": "code",
   "execution_count": 119,
   "id": "e1954ad5-9827-4dd6-8093-89f619e3853b",
   "metadata": {},
   "outputs": [],
   "source": [
    "import csv \n",
    "\n",
    "header = ['Title', 'Price', 'Date']\n",
    "data = [title, price, today]\n",
    "\n",
    "\n",
    "with open('AmazonwebScraper.csv', 'w', newline='', encoding='UTF8') as f:\n",
    "    writer = csv.writer(f)\n",
    "    writer.writerow(header)\n",
    "    writer.writerow(data)"
   ]
  },
  {
   "cell_type": "code",
   "execution_count": 129,
   "id": "93ae415e-70f8-4448-8212-ab9d198fd4ee",
   "metadata": {},
   "outputs": [
    {
     "name": "stdout",
     "output_type": "stream",
     "text": [
      "                                               Title   Price        Date\n",
      "0  OnePlus Nord CE 3 Lite 5G (Chromatic Gray, 8GB...  16,010  2024-10-21\n",
      "1  OnePlus Nord CE 3 Lite 5G (Chromatic Gray, 8GB...  16,010  2024-10-21\n",
      "2  OnePlus Nord CE 3 Lite 5G (Chromatic Gray, 8GB...  16,010  2024-10-21\n"
     ]
    }
   ],
   "source": [
    "import pandas as pd\n",
    "\n",
    "df=pd.read_csv(r\"C:\\Users\\ajint\\AmazonwebScraper.csv\")\n",
    "\n",
    "print(df)"
   ]
  },
  {
   "cell_type": "code",
   "execution_count": 127,
   "id": "5d8c9314-a625-4580-975e-64776574d1ab",
   "metadata": {},
   "outputs": [],
   "source": [
    "# appending data to the csv\n",
    "\n",
    "with open('AmazonwebScraper.csv', 'a+', newline='', encoding='UTF8') as f:\n",
    "    writer = csv.writer(f)\n",
    "    writer.writerow(data)"
   ]
  },
  {
   "cell_type": "code",
   "execution_count": 131,
   "id": "e964d2a6-6bb2-405e-a659-00f163c91e1b",
   "metadata": {},
   "outputs": [],
   "source": [
    "def check_price():\n",
    "    URL = \"https://www.amazon.in/OnePlus-Nord-Chromatic-128GB-Storage/dp/B0BY8MCQ9S/ref=sr_1_8?dib=eyJ2IjoiMSJ9.b2XRdvIXAHYNk9y9yfCU3hAVDSbZyzXzooAPqXCn1_4JMNlBv5My5c8XY1rR0sZv1F5B3YKumYgwC5DP4fHjGxGvVbtUBNsVHI7-U-2OL8ludcjS0jT1W_f3Q7DzdiwKlbH8uZHCcHLepH-o9nxBefP0FM-TW1tyLsPhMdWPlKlXTC6hjDCrTzj-GKhUezjNBJKb8HXN7jh4YUV5Z6Et0bPA_jaPJ6cmt_SDqGnqN_s.Hjj28xIQ8JZ92LsITqWw18SVwyEpw8mr9Yb8AMSh95c&dib_tag=se&keywords=phones&qid=1729472834&sr=8-8&th=1\"\n",
    "    \n",
    "    headers = {\"User-Agent\": \"Mozilla/5.0 (Windows NT 10.0; Win64; x64) AppleWebKit/537.36 (KHTML, like Gecko) Chrome/130.0.0.0 Safari/537.36 Edg/130.0.0.0\"}\n",
    "    \n",
    "    page = requests.get(URL, headers=headers)\n",
    "    \n",
    "    Soup1 = BeautifulSoup(page.content, \"html.parser\")\n",
    "    \n",
    "    Soup2 = BeautifulSoup(soup1.prettify(), \"html.parser\")\n",
    "    \n",
    "    title = Soup2.find(id=\"productTitle\").get_text()\n",
    "    \n",
    "    price = soup2.find(name=\"span\", class_=\"a-price-whole\").get_text()\n",
    "    \n",
    "    price=price.strip()[:6]\n",
    "    title=title.strip()\n",
    "    \n",
    "    import datetime\n",
    "    \n",
    "    today = datetime.date.today()\n",
    "    import csv \n",
    "    header = ['Title', 'Price', 'Date']\n",
    "    data = [title, price, today]\n",
    "    \n",
    "    with open('AmazonwebScraper.csv', 'a+', newline='', encoding='UTF8') as f:\n",
    "        writer = csv.writer(f)\n",
    "        writer.writerow(data)\n",
    "\n",
    "    if (price<10000):\n",
    "        send_mail()\n",
    "    "
   ]
  },
  {
   "cell_type": "code",
   "execution_count": null,
   "id": "b8d67048-4111-4bdb-9b82-ae8e702aa1d8",
   "metadata": {},
   "outputs": [],
   "source": [
    "# Runs check_price after a set time and inputs data into your CSV\n",
    "\n",
    "while(True):\n",
    "    check_price()\n",
    "    time.sleep(2592000)"
   ]
  },
  {
   "cell_type": "code",
   "execution_count": null,
   "id": "0bf16c6b-0cb7-46df-81a1-65e833c30b61",
   "metadata": {},
   "outputs": [],
   "source": [
    "import pandas as pd\n",
    "\n",
    "df=pd.read_csv(r\"C:\\Users\\ajint\\AmazonwebScraper.csv\")\n",
    "\n",
    "print(df)"
   ]
  },
  {
   "cell_type": "code",
   "execution_count": null,
   "id": "cc3f41c3-a7b4-4e58-bda3-2f57938db6d3",
   "metadata": {},
   "outputs": [],
   "source": [
    "# If uou want to try sending yourself an email (just for fun) when a price hits below a certain level you can try it\n",
    "# out with this script\n",
    "\n",
    "def send_mail():\n",
    "    server = smtplib.SMTP_SSL('smtp.gmail.com',465)\n",
    "    server.ehlo()\n",
    "    #server.starttls()\n",
    "    server.ehlo()\n",
    "    server.login('xxxxxxxxxxx@gmail.com','xxxxxxxxxxxxxx')\n",
    "    \n",
    "    subject = \"The phone you want is below 10000! Now is your chance to buy!\"\n",
    "    body = \"This is the moment we have been waiting for. Now is your chance to pick up the shirt of your dreams. Don't mess it up! Link here: https://www.amazon.com/Funny-Data-Systems-Business-Analyst/dp/B07FNW9FGJ/ref=sr_1_3?dchild=1&keywords=data+analyst+tshirt&qid=1626655184&sr=8-3\"\n",
    "   \n",
    "    msg = f\"Subject: {subject}\\n\\n{body}\"\n",
    "    \n",
    "    server.sendmail(\n",
    "        'xxxxxxxxxxxxxxx@gmail.com',\n",
    "        msg\n",
    "     \n",
    "    )"
   ]
  }
 ],
 "metadata": {
  "kernelspec": {
   "display_name": "Python 3 (ipykernel)",
   "language": "python",
   "name": "python3"
  },
  "language_info": {
   "codemirror_mode": {
    "name": "ipython",
    "version": 3
   },
   "file_extension": ".py",
   "mimetype": "text/x-python",
   "name": "python",
   "nbconvert_exporter": "python",
   "pygments_lexer": "ipython3",
   "version": "3.12.4"
  }
 },
 "nbformat": 4,
 "nbformat_minor": 5
}
